{
  "nbformat": 4,
  "nbformat_minor": 0,
  "metadata": {
    "colab": {
      "provenance": [],
      "authorship_tag": "ABX9TyPqk/I5NQP2aOAqI7XNG0/f",
      "include_colab_link": true
    },
    "kernelspec": {
      "name": "python3",
      "display_name": "Python 3"
    },
    "language_info": {
      "name": "python"
    }
  },
  "cells": [
    {
      "cell_type": "markdown",
      "metadata": {
        "id": "view-in-github",
        "colab_type": "text"
      },
      "source": [
        "<a href=\"https://colab.research.google.com/github/rihemmaarefe/tictacto/blob/main/tictacto.ipynb\" target=\"_parent\"><img src=\"https://colab.research.google.com/assets/colab-badge.svg\" alt=\"Open In Colab\"/></a>"
      ]
    },
    {
      "cell_type": "code",
      "execution_count": null,
      "metadata": {
        "id": "PLcSjbNDXA_m"
      },
      "outputs": [],
      "source": [
        "def print_board(board):\n",
        "    \"\"\"\n",
        "    Print the Tic Tac Toe board.\n",
        "    \"\"\"\n",
        "    for row in board:\n",
        "        print(\" \".join(row))\n",
        "\n",
        "def get_winner(board):\n",
        "    \"\"\"\n",
        "    Check if there is a winner and return the winning player.\n",
        "    \"\"\"\n",
        "    for player in [\"X\", \"O\"]:\n",
        "        # Check rows\n",
        "        if board[0] == [player, player, player] or \\\n",
        "           board[1] == [player, player, player] or \\\n",
        "           board[2] == [player, player, player]:\n",
        "            return player\n",
        "        # Check columns\n",
        "        if board[0][0] == player and board[1][0] == player and board[2][0] == player or \\\n",
        "           board[0][1] == player and board[1][1] == player and board[2][1] == player or \\\n",
        "           board[0][2] == player and board[1][2] == player and board[2][2] == player:\n",
        "            return player\n",
        "        # Check diagonals\n",
        "        if board[0][0] == player and board[1][1] == player and board[2][2] == player or \\\n",
        "           board[0][2] == player and board[1][1] == player and board[2][0] == player:\n",
        "            return player\n",
        "    return None\n",
        "\n",
        "def get_move(player, board):\n",
        "    \"\"\"\n",
        "    Get a move from the player and update the board.\n",
        "    \"\"\"\n",
        "    while True:\n",
        "        try:\n",
        "            row = int(input(f\"{player} - Enter row (1-3): \")) - 1\n",
        "            col = int(input(f\"{player} - Enter column (1-3): \")) - 1\n",
        "            if board[row][col] == \" \":\n",
        "                board[row][col] = player\n",
        "                return\n",
        "            else:\n",
        "                print(\"That space is already taken!\")\n",
        "        except (ValueError, IndexError):\n",
        "            print(\"Invalid input, try again.\")\n",
        "\n",
        "def play_game():\n",
        "    \"\"\"\n",
        "    Play a game of Tic Tac Toe.\n",
        "    \"\"\"\n",
        "    # Initialize the board\n",
        "    board = [[\" \", \" \", \" \"], [\" \", \" \", \" \"], [\" \", \" \", \" \"]]\n",
        "    print(\"Let's play Tic Tac Toe!\")\n",
        "    print_board(board)\n",
        "\n",
        "    # Main game loop\n",
        "    while True:\n",
        "        # Get X's move\n",
        "        get_move(\"X\", board)\n",
        "        print_board(board)\n",
        "        winner = get_winner(board)\n",
        "        if winner:\n",
        "            print(f\"{winner} wins!\")\n",
        "            break\n",
        "        # Check for tie game\n",
        "        if all(\" \" not in row for row in board):\n",
        "            print(\"Tie game!\")\n",
        "            break\n",
        "        # Get O's move\n",
        "        get_move(\"O\", board)\n",
        "        print_board(board)\n",
        "        winner = get_winner(board)\n",
        "        if winner:\n",
        "            print(f\"{winner} wins!\")\n",
        "            break\n",
        "        # Check for tie game\n",
        "        if all(\" \" not in row for row in board):\n",
        "            print(\"Tie game!\")\n",
        "            break\n",
        "\n",
        "# Start the game\n",
        "play_game()\n"
      ]
    }
  ]
}